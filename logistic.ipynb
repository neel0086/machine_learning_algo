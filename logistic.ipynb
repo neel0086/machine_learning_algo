{
 "cells": [
  {
   "cell_type": "code",
   "execution_count": 19,
   "id": "e66c9a01-47fb-4c43-b6b8-d212f45114ce",
   "metadata": {},
   "outputs": [],
   "source": [
    "import numpy as np\n"
   ]
  },
  {
   "cell_type": "code",
   "execution_count": 20,
   "id": "6bcfd86f-038b-400a-8d43-29f2f57fbdbe",
   "metadata": {},
   "outputs": [],
   "source": [
    "def sigmoid(z):\n",
    "    return 1/(1+np.exp(-z))"
   ]
  },
  {
   "cell_type": "code",
   "execution_count": 21,
   "id": "41759dd2-901d-40c1-9069-10f61e8cef10",
   "metadata": {},
   "outputs": [],
   "source": [
    "class LogisticRegression:\n",
    "    def __init__(self,alpha=0.01,num_iterations=10000):\n",
    "        self.alpha=alpha\n",
    "        self.num_iterations=num_iterations\n",
    "\n",
    "    def fit(self,X,Y):\n",
    "        m,n=X.shape\n",
    "        self.w=np.zeros(n)\n",
    "\n",
    "        for _ in range(self.num_iterations):\n",
    "            z = np.dot(X,self.w)\n",
    "            h = sigmoid(z)\n",
    "\n",
    "            gradient = np.dot(X.T,(h-Y))/m\n",
    "            self.w-=self.alpha*gradient\n",
    "\n",
    "    def predict(self, X):\n",
    "        z = np.dot(X, self.w)\n",
    "        h = sigmoid(z)\n",
    "        predictions = [1 if i > 0.5 else 0 for i in h]\n",
    "        return predictions\n",
    "            \n",
    "        \n",
    "        "
   ]
  },
  {
   "cell_type": "code",
   "execution_count": 22,
   "id": "4df47efb-cbd3-4b77-904e-dfb60a96c43f",
   "metadata": {},
   "outputs": [],
   "source": [
    "X = np.array([[2], [3], [4], [5], [6], [7], [8], [9]])\n",
    "y = np.array([0, 0, 0, 0, 1, 1, 1, 1])\n",
    "\n",
    "X_with_bias = np.c_[np.ones((X.shape[0], 1)), X]\n",
    "\n",
    "model = LogisticRegression(alpha=0.1, num_iterations=10000)\n",
    "model.fit(X_with_bias, y)\n",
    "new_data = np.array([[6.5], [7.5]])\n",
    "new_data_with_bias = np.c_[np.ones((new_data.shape[0], 1)), new_data]\n",
    "predictions = model.predict(new_data_with_bias)\n",
    "\n"
   ]
  },
  {
   "cell_type": "code",
   "execution_count": 33,
   "id": "f12f11f1-6ed0-40fc-beb4-9ebde9fb06aa",
   "metadata": {},
   "outputs": [
    {
     "name": "stdout",
     "output_type": "stream",
     "text": [
      "Predictions: [1, 0]\n"
     ]
    }
   ],
   "source": [
    "new_data = np.array([[10.0], [4.5]])\n",
    "new_data_with_bias = np.c_[np.ones((new_data.shape[0], 1)), new_data]\n",
    "predictions = model.predict(new_data_with_bias)\n",
    "\n",
    "print(\"Predictions:\", predictions)"
   ]
  },
  {
   "cell_type": "code",
   "execution_count": null,
   "id": "479d0206-a37b-4584-b528-f2fff0bfb78c",
   "metadata": {},
   "outputs": [],
   "source": []
  }
 ],
 "metadata": {
  "kernelspec": {
   "display_name": "Python 3 (ipykernel)",
   "language": "python",
   "name": "python3"
  },
  "language_info": {
   "codemirror_mode": {
    "name": "ipython",
    "version": 3
   },
   "file_extension": ".py",
   "mimetype": "text/x-python",
   "name": "python",
   "nbconvert_exporter": "python",
   "pygments_lexer": "ipython3",
   "version": "3.10.5"
  },
  "widgets": {
   "application/vnd.jupyter.widget-state+json": {
    "state": {},
    "version_major": 2,
    "version_minor": 0
   }
  }
 },
 "nbformat": 4,
 "nbformat_minor": 5
}
