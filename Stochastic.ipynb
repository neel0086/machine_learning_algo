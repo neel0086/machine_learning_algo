{
 "cells": [
  {
   "cell_type": "code",
   "execution_count": 1,
   "id": "2f465ea9-3704-4a3b-8582-d2914c673369",
   "metadata": {},
   "outputs": [],
   "source": [
    "import numpy as np\n",
    "import matplotlib as plt\n"
   ]
  },
  {
   "cell_type": "code",
   "execution_count": 7,
   "id": "aa5feb6a-d3f2-4dd6-8008-0db830f4bdb1",
   "metadata": {},
   "outputs": [],
   "source": [
    "X = [1, 2, 3, 4]\n",
    "Y = [3, 5, 7, 9]\n",
    "\n",
    "w0=np.random.randn()\n",
    "w1=np.random.randn()\n",
    "\n",
    "X=np.array(X)\n",
    "Y=np.array(Y)\n",
    "\n",
    "n=len(X)\n",
    "alpha=0.01\n",
    "tolerance=10**(-6)\n",
    "prev_cost=float('inf')"
   ]
  },
  {
   "cell_type": "code",
   "execution_count": null,
   "id": "df889414-b457-424d-9a20-cf619c08621b",
   "metadata": {},
   "outputs": [],
   "source": [
    "for _ in range(100000):\n",
    "    for _ in range(n):\n",
    "        idx=np.random.randint(m)\n",
    "        xi = X[idx]\n",
    "        yi = Y[idx]\n",
    "\n",
    "        y_pred=w0+w1xi\n",
    "        error = y_pred-yi\n",
    "\n",
    "        gradient_w0 = error\n",
    "        gradient__w1 = error*xi\n",
    "        \n",
    "        w0 = w0 - alpha*gradient_w0\n",
    "        w1 = w1 - aplha*gradient_w1\n",
    "\n",
    "    cost = (1/2)*np.sum((w0+w1*X-Y)**2)\n",
    "    if abs(cost - prev_cost) < tolerance:\n",
    "        print(f\"Converged after {iteration} iterations.\")\n",
    "        break\n",
    "    \n",
    "    prev_cost = cost\n",
    "    \n",
    "        "
   ]
  },
  {
   "cell_type": "code",
   "execution_count": null,
   "id": "be233fe7-3169-4cea-b64d-007e740aa111",
   "metadata": {},
   "outputs": [],
   "source": []
  }
 ],
 "metadata": {
  "kernelspec": {
   "display_name": "Python 3 (ipykernel)",
   "language": "python",
   "name": "python3"
  },
  "language_info": {
   "codemirror_mode": {
    "name": "ipython",
    "version": 3
   },
   "file_extension": ".py",
   "mimetype": "text/x-python",
   "name": "python",
   "nbconvert_exporter": "python",
   "pygments_lexer": "ipython3",
   "version": "3.10.5"
  },
  "widgets": {
   "application/vnd.jupyter.widget-state+json": {
    "state": {},
    "version_major": 2,
    "version_minor": 0
   }
  }
 },
 "nbformat": 4,
 "nbformat_minor": 5
}
