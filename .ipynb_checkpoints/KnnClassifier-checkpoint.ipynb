{
 "cells": [
  {
   "cell_type": "code",
   "execution_count": 6,
   "id": "b9d533b8-f00a-4092-ac9e-fbe2bb802143",
   "metadata": {},
   "outputs": [],
   "source": [
    "import numpy as np"
   ]
  },
  {
   "cell_type": "code",
   "execution_count": 7,
   "id": "7bde8ab4-4a65-489b-84d4-46589f2b0bd9",
   "metadata": {},
   "outputs": [],
   "source": [
    "def euclidean_distance(x1,x2):\n",
    "    np.sqrt(np.sum((x1-x2)**2))"
   ]
  },
  {
   "cell_type": "code",
   "execution_count": 8,
   "id": "3aa28c46-3120-4606-8e14-d5b679e1f58f",
   "metadata": {},
   "outputs": [],
   "source": [
    "class KNNClassifier:\n",
    "    def __init__(self,k=3):\n",
    "        self.k=k\n",
    "\n",
    "    def fit(self,X,Y):\n",
    "        self.X_train=X\n",
    "        self.Y_train=Y\n",
    "\n",
    "    def predict(self,X):\n",
    "        Y_predict = [self._predict(x) for x in X]\n",
    "        return np.array(Y_predict)\n",
    "\n",
    "    def _predict(self,x):\n",
    "        distances = [euclidean_distance(x,x_train) for x_train in self.X_train]\n",
    "        k_indices = np.argsort(distances)[:self.k]\n",
    "\n",
    "        k_nearest_labels = [self.Y_train for i in k_indices]\n",
    "        most_common_label = np.bincount(k_nearest_labels).argmax()\n",
    "        return most_common_label\n",
    "        \n",
    "        "
   ]
  },
  {
   "cell_type": "code",
   "execution_count": 9,
   "id": "45aac1ca-4a24-47da-a6d8-03697f5e354a",
   "metadata": {},
   "outputs": [],
   "source": [
    "X_train = np.array([[1, 2], [2, 3], [3, 4], [4, 5], [5, 6]])\n",
    "y_train = np.array([0, 0, 1, 1, 0])\n",
    "\n",
    "X_test = np.array([[2, 3], [4, 5]])\n",
    "y_test = np.array([0, 1])"
   ]
  },
  {
   "cell_type": "code",
   "execution_count": null,
   "id": "4cf0cfe2-e81c-466b-b477-6b7f5f116aa1",
   "metadata": {},
   "outputs": [],
   "source": [
    "knn_classifier = KNNClassifier(k=3)\n",
    "knn_classifier.fit(X_train, y_train)\n",
    "\n",
    "y_pred = knn_classifier.predict(X_test)\n",
    "\n",
    "print(\"Predicted Labels:\", y_pred)"
   ]
  }
 ],
 "metadata": {
  "kernelspec": {
   "display_name": "Python 3 (ipykernel)",
   "language": "python",
   "name": "python3"
  },
  "language_info": {
   "codemirror_mode": {
    "name": "ipython",
    "version": 3
   },
   "file_extension": ".py",
   "mimetype": "text/x-python",
   "name": "python",
   "nbconvert_exporter": "python",
   "pygments_lexer": "ipython3",
   "version": "3.10.5"
  },
  "widgets": {
   "application/vnd.jupyter.widget-state+json": {
    "state": {},
    "version_major": 2,
    "version_minor": 0
   }
  }
 },
 "nbformat": 4,
 "nbformat_minor": 5
}
